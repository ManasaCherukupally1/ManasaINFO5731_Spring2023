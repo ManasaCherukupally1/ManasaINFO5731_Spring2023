{
  "cells": [
    {
      "cell_type": "markdown",
      "metadata": {
        "id": "view-in-github",
        "colab_type": "text"
      },
      "source": [
        "<a href=\"https://colab.research.google.com/github/ManasaCherukupally1/Manasa_INFO5731_Spring2023/blob/main/Cherukupally_Manasa_Assignment_01.ipynb\" target=\"_parent\"><img src=\"https://colab.research.google.com/assets/colab-badge.svg\" alt=\"Open In Colab\"/></a>"
      ]
    },
    {
      "cell_type": "markdown",
      "metadata": {
        "id": "Ryk8D1Q4Wsrp"
      },
      "source": [
        "# **INFO5731 Assignment One**"
      ]
    },
    {
      "cell_type": "markdown",
      "metadata": {
        "id": "90_NR8c5XGWc"
      },
      "source": [
        "# Question 1\n",
        "\n",
        "(20 points). Write a Python program to generate 12 random numbers between 1 and 100. Sort the list of numbers in ascending order and print it out. Sort the list of numbers in descending order and print it out. Calculate the average for the group and print it out."
      ]
    },
    {
      "cell_type": "code",
      "execution_count": 3,
      "metadata": {
        "id": "5QX6bJjGWXY9",
        "colab": {
          "base_uri": "https://localhost:8080/"
        },
        "outputId": "7d999b87-0292-4ec9-840e-b55503f9893b"
      },
      "outputs": [
        {
          "output_type": "stream",
          "name": "stdout",
          "text": [
            "Generated Numbers: [56, 93, 52, 99, 58, 57, 50, 97, 59, 79, 73, 8]\n",
            "Ascending Order: [8, 50, 52, 56, 57, 58, 59, 73, 79, 93, 97, 99]\n",
            "Descending Order: [99, 97, 93, 79, 73, 59, 58, 57, 56, 52, 50, 8]\n",
            "Average: 65.08333333333333\n"
          ]
        }
      ],
      "source": [
        "import random\n",
        "\n",
        "# Generating 12 random numbers\n",
        "rand_num = [random.randint(1, 100) for i in range(12)]\n",
        "\n",
        "# Sorting in ascending order\n",
        "sorted_num_asc = sorted(rand_num)\n",
        "\n",
        "# Sorting descending order\n",
        "sorted_num_dsc = sorted(rand_num, reverse=True)\n",
        "\n",
        "#average calculation\n",
        "avg = sum(rand_num) / len(rand_num)\n",
        "\n",
        "#Results\n",
        "print(\"Generated Numbers:\", rand_num)\n",
        "print(\"Ascending Order:\", sorted_num_asc)\n",
        "print(\"Descending Order:\", sorted_num_dsc)\n",
        "print(\"Average:\", avg)\n",
        "\n",
        "\n"
      ]
    },
    {
      "cell_type": "markdown",
      "metadata": {
        "id": "1F_PZdH9Sh49"
      },
      "source": [
        "# Question 2\n",
        "(25 points).\n",
        "\n",
        "Write a program that will do the following string formatting tasks:\n",
        "\n",
        "(1) Ask the user to enter two sentences.\n",
        "\n",
        "(2) Make each sentence into a list. Each element in the list should correspond to a word in the sentence. For example, if the sentence is \"Alas! Am I alive? This is my first python program\", the program should print out ['Alas, '!', 'Am', 'I', 'alive, '?', 'This', 'is', 'my', 'first', 'python', 'program'].\n",
        "\n",
        "(3) Compare the two sentences. Print out a list of words that occur in both sentences.\n",
        "\n",
        "(4) Remove any punctuation from the sentence and print it back out. It should remove at least the following characters, but it can remove more: period(“.”), comma (“,”), semicolon (“;”), and colon (“:”)\n",
        "\n",
        "(5) Count the number of vowels in the sentences. Print out each vowel and the number of times it appears in the sentences, such as: a:2, e:1, i:0, etc"
      ]
    },
    {
      "cell_type": "code",
      "execution_count": 42,
      "metadata": {
        "id": "Y0oOSlsOS0cq",
        "colab": {
          "base_uri": "https://localhost:8080/"
        },
        "outputId": "4774db08-490e-4f70-d40c-d6e00a2a9d65"
      },
      "outputs": [
        {
          "output_type": "stream",
          "name": "stdout",
          "text": [
            "Enter one sentence: This is Manasa\n",
            "Enter two sentence: This is Manasa's INFO5731 Assignment\n",
            "\n",
            "Words of sent1: ['This', 'is', 'Manasa']\n",
            "Words of sent2: ['This', 'is', \"Manasa's\", 'INFO5731', 'Assignment']\n",
            "\n",
            "matching words: ['is', 'This']\n",
            "\n",
            "without punctuations sent1: This is Manasa\n",
            "\n",
            "without punctuations sent2: This is Manasas INFO5731 Assignment\n",
            "\n",
            "Vowel counts in sent1: 5\n",
            "Vowel counts in sent2: 10\n"
          ]
        }
      ],
      "source": [
        "import string\n",
        "\n",
        "\n",
        "# Function to count vowels\n",
        "def vowel_count(sent):\n",
        "    vowels = \"aeiouAEIOU\"\n",
        "    sent = sent.lower()\n",
        "    count=0\n",
        "    for c in sent:\n",
        "        if c in vowels:\n",
        "            count=count+1\n",
        "\n",
        "    return count\n",
        "\n",
        "# Step 1: Ask the user to enter two sentences\n",
        "sent1 = input(\"Enter one sentence: \")\n",
        "sent2 = input(\"Enter two sentence: \")\n",
        "\n",
        "# Step 2: Split each sentence into a list of words\n",
        "list1= sent1.split(' ')\n",
        "list2 = sent2.split(' ')\n",
        "\n",
        "# Step 3: Find common words in both sentences\n",
        "matching_words = list(set(list1) & set(list2))\n",
        "\n",
        "# Step 4: Remove punctuation from the sentences\n",
        "sent1 = ''.join(c for c in sent1 if c not in string.punctuation)\n",
        "sent2 = ''.join(c for c in sent2 if c not in string.punctuation)\n",
        "\n",
        "# Step 5: Count the number of vowels in each sentence\n",
        "count1 = vowel_count(sent1)\n",
        "count2 = vowel_count(sent2)\n",
        "\n",
        "#results\n",
        "print(\"\\nWords of sent1:\", list1)\n",
        "print(\"Words of sent2:\", list2)\n",
        "print(\"\\nmatching words:\", matching_words)\n",
        "print(\"\\nwithout punctuations sent1:\", sent1)\n",
        "print(\"\\nwithout punctuations sent2:\", sent2)\n",
        "print(\"\\nVowel counts in sent1:\", count1)\n",
        "print(\"Vowel counts in sent2:\", count2)\n",
        "\n",
        "\n"
      ]
    },
    {
      "cell_type": "markdown",
      "metadata": {
        "id": "CmFoI4jDS9nx"
      },
      "source": [
        "# Question 3\n",
        "\n",
        "(15 points). The formula that describes the volume V of a sphere with radius r is the following:\n",
        "\n",
        "$ V=\\frac{4}{3}\\ast\\ \\pi\\ast\\ r^3 $\n",
        "\n",
        "Write a program to calculate the value of V when r is in the range of 1–10. Output the result in the following format:\n",
        "\n",
        "\tr\tV\n",
        "\t1\t…\n",
        "\t2\t…\n",
        "\t3\t…\n"
      ]
    },
    {
      "cell_type": "code",
      "execution_count": 9,
      "metadata": {
        "id": "pEyqeioAT95b",
        "colab": {
          "base_uri": "https://localhost:8080/"
        },
        "outputId": "8709e9b6-acd4-43b0-c0da-1199cce5930c"
      },
      "outputs": [
        {
          "output_type": "stream",
          "name": "stdout",
          "text": [
            "Radius (r) | Volume (V)\n",
            "     1      | 4.19\n",
            "     2      | 33.51\n",
            "     3      | 113.10\n",
            "     4      | 268.08\n",
            "     5      | 523.60\n",
            "     6      | 904.78\n",
            "     7      | 1436.76\n",
            "     8      | 2144.66\n",
            "     9      | 3053.63\n",
            "    10      | 4188.79\n"
          ]
        }
      ],
      "source": [
        "import math\n",
        "\n",
        "# Print\n",
        "print(\"Radius (r) | Volume (V)\")\n",
        "\n",
        "# Calculate volume for radius\n",
        "for radius in range(1, 11):\n",
        "    vol = (4/3) * math.pi * radius**3\n",
        "    print(f\"{radius:^11} | {vol:.2f}\")\n",
        "\n",
        "\n",
        "\n"
      ]
    },
    {
      "cell_type": "markdown",
      "metadata": {
        "id": "z3tBE7E-Xn5X"
      },
      "source": [
        "# Question 4\n",
        "\n",
        "(40 points). In the field of Data Science, data is often formatted as a comma-delimited (CSV) file, where each line in a file corresponds to a field's value. Refer to Chapter 9 (p. 106) for more information on comma-delimited files. To answer this question, you will need to download the file [Assignment1_denton_housing.csv](https://raw.githubusercontent.com/unt-iialab/info5731-spring2022/main/assignments/Assignment1_denton_housing.csv) included with this assignment. The file [Assignment1_denton_housing.csv](https://raw.githubusercontent.com/unt-iialab/info5731-spring2022/main/assignments/Assignment1_denton_housing.csv) contains statistics about housing in the city of Denton from 2008 to 2014. Write a program to implement the following questions.\n",
        "\n",
        "(1) (10 pts) Calculate the difference in the number of Occupied Housing Units from year to year and print it. The difference must be calculated for the consecutive years such as 2008-2009, 2009-2010 etc. Finally, print the values in the ascending order.\n",
        "\n",
        "(2) (10 pts) For all the years, calculate the percentage of housing units which are vacant an occupied. Print the results in the following format:\n",
        "\n",
        "Year Vacant Housing Units Occupied Housing Units\n",
        "\n",
        "    2008  30%   70%                          \n",
        "\t2009 ----- -----\n",
        "\t2010 ----- -----\n",
        "    2011 ----- -----\n",
        "\t2012 ----- -----\n",
        "    2013 ----- -----\n",
        "\t2014 ----- -----\n",
        "  \n",
        "  \n",
        "\n",
        "(3) (10 pts) Calculate and print the valued and years in which the highest number of housing units were vacant and occupied. Print the results in the following format:  \n",
        "\n",
        "                              Year\tValue\n",
        "\tVacant Housing Units\t  -----   -----\n",
        "\tOccupied Housing Units\t-----   -----\n",
        "\n",
        "(4) (10 pts) Calculate the harmonic mean of the total housing units and print it out. You can find the information about harmonic mean here: https://ncalculators.com/statistics/harmonic-mean-calculator.htm"
      ]
    },
    {
      "cell_type": "code",
      "source": [
        "#Question 1\n",
        "\n",
        "import pandas as pd\n",
        "\n",
        "# Read the data\n",
        "df = pd.read_csv('/content/Assignment1_denton_housing.csv')\n",
        "\n",
        "#rows with 'Occupied Housing Units'\n",
        "occupied_df = df[df['title_field'] == 'Occupied Housing Units']\n",
        "\n",
        "occupied_df.sort_values(by='year', inplace=True)\n",
        "\n",
        "\n",
        "# Calculate the absolute difference\n",
        "occupied_df['Occupied Diff'] = occupied_df['value'].diff().abs()\n",
        "\n",
        "\n",
        "# removing first row as no prior year to compare\n",
        "occupied_diff = occupied_df[1:].copy()\n",
        "\n",
        "# Create a new column for year range\n",
        "occupied_diff['Year Range'] = (occupied_diff['year'] - 1).astype(str) + '-' + occupied_diff['year'].astype(str)\n",
        "\n",
        "# Sort the DataFrame\n",
        "occupied_diff.sort_values(by='Occupied Diff', inplace=True)\n",
        "\n",
        "# Print the values\n",
        "print(occupied_diff[['Year Range', 'Occupied Diff']])\n",
        "\n",
        "\n"
      ],
      "metadata": {
        "colab": {
          "base_uri": "https://localhost:8080/"
        },
        "id": "r9GGxPrgy8xH",
        "outputId": "b6a3b837-009e-4f48-9ba4-bc2e80353b61"
      },
      "execution_count": 33,
      "outputs": [
        {
          "output_type": "stream",
          "name": "stdout",
          "text": [
            "   Year Range  Occupied Diff\n",
            "11  2010-2011          303.0\n",
            "17  2008-2009          795.0\n",
            "8   2011-2012         1404.0\n",
            "5   2012-2013         1565.0\n",
            "2   2013-2014         2622.0\n",
            "14  2009-2010         5091.0\n"
          ]
        },
        {
          "output_type": "stream",
          "name": "stderr",
          "text": [
            "<ipython-input-33-dfbd7c4f7db4>:9: SettingWithCopyWarning: \n",
            "A value is trying to be set on a copy of a slice from a DataFrame\n",
            "\n",
            "See the caveats in the documentation: https://pandas.pydata.org/pandas-docs/stable/user_guide/indexing.html#returning-a-view-versus-a-copy\n",
            "  occupied_df.sort_values(by='year', inplace=True)\n",
            "<ipython-input-33-dfbd7c4f7db4>:13: SettingWithCopyWarning: \n",
            "A value is trying to be set on a copy of a slice from a DataFrame.\n",
            "Try using .loc[row_indexer,col_indexer] = value instead\n",
            "\n",
            "See the caveats in the documentation: https://pandas.pydata.org/pandas-docs/stable/user_guide/indexing.html#returning-a-view-versus-a-copy\n",
            "  occupied_df['Occupied Diff'] = occupied_df['value'].diff().abs()\n"
          ]
        }
      ]
    },
    {
      "cell_type": "code",
      "source": [
        "\n",
        "#Question 2\n",
        "\n",
        "import pandas as pd\n",
        "\n",
        "# Read the data\n",
        "df = pd.read_csv('/content/Assignment1_denton_housing.csv')\n",
        "\n",
        "# Rows with 'Occupied Housing Units'\n",
        "occupied_df = df[df['title_field'] == 'Occupied Housing Units']\n",
        "\n",
        "# Sort by 'year'\n",
        "occupied_df = occupied_df.sort_values(by='year')\n",
        "\n",
        "# Calculate the absolute difference\n",
        "occupied_df.loc[:, 'Occupied Diff'] = occupied_df['value'].diff().abs()\n",
        "\n",
        "# Removing the first row as there is no prior year to compare\n",
        "occupied_diff = occupied_df.iloc[1:].copy()\n",
        "\n",
        "# Create a new column for year range\n",
        "occupied_diff.loc[:, 'Year Range'] = (occupied_diff['year'] - 1).astype(str) + '-' + occupied_diff['year'].astype(str)\n",
        "\n",
        "# Sort the DataFrame using .loc\n",
        "occupied_diff = occupied_diff.sort_values(by='Occupied Diff')\n",
        "\n",
        "# Print the values\n",
        "print(occupied_diff[['Year Range', 'Occupied Diff']])\n",
        "\n"
      ],
      "metadata": {
        "colab": {
          "base_uri": "https://localhost:8080/"
        },
        "id": "3T1Tp2svITDb",
        "outputId": "717e40dd-c69c-4785-f5b4-711a2e60dc59"
      },
      "execution_count": 43,
      "outputs": [
        {
          "output_type": "stream",
          "name": "stdout",
          "text": [
            "   Year Range  Occupied Diff\n",
            "11  2010-2011          303.0\n",
            "17  2008-2009          795.0\n",
            "8   2011-2012         1404.0\n",
            "5   2012-2013         1565.0\n",
            "2   2013-2014         2622.0\n",
            "14  2009-2010         5091.0\n"
          ]
        }
      ]
    },
    {
      "cell_type": "code",
      "source": [
        "#Question 3\n",
        "\n",
        "# Filter rows for vacant and occupied\n",
        "housing_df = df[df['title_field'].isin(['Vacant Housing Units', 'Occupied Housing Units'])]\n",
        "\n",
        "# Pivot the DataFrame\n",
        "housing_pivot = housing_df.pivot(index='title_field', columns='year', values='value')\n",
        "\n",
        "\n",
        "# Find the years with the highest vacants and occupied\n",
        "highest_vacant_year = housing_pivot.loc['Vacant Housing Units'].idxmax()\n",
        "highest_occupied_year = housing_pivot.loc['Occupied Housing Units'].idxmax()\n",
        "\n",
        "# Get the values of vacant and occupied\n",
        "highest_vacant_value = housing_pivot.loc['Vacant Housing Units'].max()\n",
        "highest_occupied_value = housing_pivot.loc['Occupied Housing Units'].max()\n",
        "\n",
        "# Create a DataFrame\n",
        "result_df = pd.DataFrame({\n",
        "    'Housing Type': ['Vacant Housing Units', 'Occupied Housing Units'],\n",
        "    'Year': [highest_vacant_year, highest_occupied_year],\n",
        "    'Value': [highest_vacant_value, highest_occupied_value]\n",
        "})\n",
        "\n",
        "# Set the index to print results\n",
        "result_df.set_index('Housing Type', inplace=True)\n",
        "print(result_df.to_string(header=True))"
      ],
      "metadata": {
        "colab": {
          "base_uri": "https://localhost:8080/"
        },
        "id": "FnfgjlJGJ3Fg",
        "outputId": "8dd7f8b0-419b-4967-d1ec-7501a6c2d268"
      },
      "execution_count": 40,
      "outputs": [
        {
          "output_type": "stream",
          "name": "stdout",
          "text": [
            "                        Year  Value\n",
            "Housing Type                       \n",
            "Vacant Housing Units    2008   4483\n",
            "Occupied Housing Units  2014  46295\n"
          ]
        }
      ]
    },
    {
      "cell_type": "code",
      "source": [
        "#Question 4\n",
        "\n",
        "from scipy import stats\n",
        "\n",
        "# Filter rows for total housing units\n",
        "tol_housing = df[df['title_field'] == 'Total Housing Units']['value']\n",
        "\n",
        "# Calculate the harmonic mean using scipy.stats.hmean\n",
        "harmonic_mean = stats.hmean(tol_housing)\n",
        "\n",
        "# Print the harmonic mean\n",
        "print(f\"The harmonic mean of Total Housing Units is: {harmonic_mean:.2f}\")"
      ],
      "metadata": {
        "colab": {
          "base_uri": "https://localhost:8080/"
        },
        "id": "htkNv8XfMPm8",
        "outputId": "19c6782e-85bb-49da-e87b-6173d6c78bce"
      },
      "execution_count": 41,
      "outputs": [
        {
          "output_type": "stream",
          "name": "stdout",
          "text": [
            "The harmonic mean of Total Housing Units is: 44398.29\n"
          ]
        }
      ]
    }
  ],
  "metadata": {
    "colab": {
      "provenance": [],
      "include_colab_link": true
    },
    "kernelspec": {
      "display_name": "Python 3 (ipykernel)",
      "language": "python",
      "name": "python3"
    },
    "language_info": {
      "codemirror_mode": {
        "name": "ipython",
        "version": 3
      },
      "file_extension": ".py",
      "mimetype": "text/x-python",
      "name": "python",
      "nbconvert_exporter": "python",
      "pygments_lexer": "ipython3",
      "version": "3.9.12"
    }
  },
  "nbformat": 4,
  "nbformat_minor": 0
}