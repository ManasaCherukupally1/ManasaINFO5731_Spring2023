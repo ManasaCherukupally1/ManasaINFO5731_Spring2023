{
  "cells": [
    {
      "cell_type": "markdown",
      "metadata": {
        "id": "view-in-github",
        "colab_type": "text"
      },
      "source": [
        "<a href=\"https://colab.research.google.com/github/ManasaCherukupally1/Manasa_INFO5731_Spring2023/blob/main/Inclass_Exercises/Cherukupally_Manasa_Exercise_01.ipynb\" target=\"_parent\"><img src=\"https://colab.research.google.com/assets/colab-badge.svg\" alt=\"Open In Colab\"/></a>"
      ]
    },
    {
      "cell_type": "markdown",
      "metadata": {
        "id": "DymRJbxDBCnf"
      },
      "source": [
        "# **The first In-class-exercise (08/30/2023, 40 points in total)**\n",
        "This exercise is due tomorrow 08/31/203 11:59 PM.\n"
      ]
    },
    {
      "cell_type": "markdown",
      "source": [
        "(1) Write a Python program to calculate the area of a rectangle using user-input length and width."
      ],
      "metadata": {
        "id": "FBKvD6O_TY6e"
      }
    },
    {
      "cell_type": "code",
      "source": [
        "length=input(\"enter the length \")\n",
        "width=input(\"enter the width \")\n",
        "area=float(length)*float(width)\n",
        "print(\"area of the rectangle {}\".format(area))"
      ],
      "metadata": {
        "id": "cikVKDXdTbzE",
        "colab": {
          "base_uri": "https://localhost:8080/"
        },
        "outputId": "dbc2869d-4d21-4c48-df25-5fadbcf547cb"
      },
      "execution_count": null,
      "outputs": [
        {
          "output_type": "stream",
          "name": "stdout",
          "text": [
            "enter the length 5\n",
            "enter the width 4\n",
            "area of the rectangle 20.0\n"
          ]
        }
      ]
    },
    {
      "cell_type": "markdown",
      "source": [
        "(2) Create a program that takes two numbers from the user and swaps their values without using a temporary variable."
      ],
      "metadata": {
        "id": "E9RqrlwdTfvl"
      }
    },
    {
      "cell_type": "code",
      "source": [
        "a=int(input(\"enter value of a \"))\n",
        "b=int(input(\"enter value of b \"))\n",
        "a=a+b\n",
        "b=a-b\n",
        "a=a-b\n",
        "print(\"after swap a= {}, b= {}\".format(a,b))"
      ],
      "metadata": {
        "id": "4XvRknixTh1g",
        "colab": {
          "base_uri": "https://localhost:8080/"
        },
        "outputId": "0ac90704-2945-41e4-8f11-6a65967f9f18"
      },
      "execution_count": null,
      "outputs": [
        {
          "output_type": "stream",
          "name": "stdout",
          "text": [
            "enter value of a 3\n",
            "enter value of b 4\n",
            "after swap a= 4, b= 3\n"
          ]
        }
      ]
    },
    {
      "cell_type": "markdown",
      "metadata": {
        "id": "03jb4GZsBkBS"
      },
      "source": [
        "(3) Write a Python program to calculate the length of a string."
      ]
    },
    {
      "cell_type": "code",
      "execution_count": null,
      "metadata": {
        "id": "YaGLbSHHB8Ej",
        "colab": {
          "base_uri": "https://localhost:8080/"
        },
        "outputId": "d07a4170-dbc1-49a5-bbb3-899ccc514198"
      },
      "outputs": [
        {
          "output_type": "stream",
          "name": "stdout",
          "text": [
            "length of string is 6\n"
          ]
        }
      ],
      "source": [
        "value=\"Manasa\"\n",
        "print(\"length of string is {}\".format(len(value)))\n"
      ]
    },
    {
      "cell_type": "markdown",
      "metadata": {
        "id": "jJDe71iLB616"
      },
      "source": [
        "(4) Write a Python program to count the number of characters in a string.\n",
        "\n",
        "Sample String : 'google.com‘,\n",
        "\n",
        "Expected Result : {'o': 3, 'g': 2, '.': 1, 'e': 1, 'l': 1, 'm': 1, 'c': 1}"
      ]
    },
    {
      "cell_type": "code",
      "execution_count": null,
      "metadata": {
        "id": "MtKskTzbCLaU",
        "colab": {
          "base_uri": "https://localhost:8080/"
        },
        "outputId": "cd421242-0c6f-4c55-bd75-6abadfe9f37c"
      },
      "outputs": [
        {
          "output_type": "stream",
          "name": "stdout",
          "text": [
            "{'g': 2, 'o': 3, 'l': 1, 'e': 1, '.': 1, 'c': 1, 'm': 1}\n"
          ]
        }
      ],
      "source": [
        "val='google.com'\n",
        "count={}\n",
        "for i in val:\n",
        "  if i in count:\n",
        "    count[i]+=1\n",
        "  else:\n",
        "    count[i]=1\n",
        "print(count)\n",
        "\n"
      ]
    },
    {
      "cell_type": "markdown",
      "metadata": {
        "id": "55W9AMdXCSpV"
      },
      "source": [
        "(5) Write a Python program to sum all the items in a list."
      ]
    },
    {
      "cell_type": "code",
      "execution_count": null,
      "metadata": {
        "id": "I57NXsauCec2",
        "colab": {
          "base_uri": "https://localhost:8080/"
        },
        "outputId": "834b7509-7c57-43b3-81be-621c369c17af"
      },
      "outputs": [
        {
          "output_type": "stream",
          "name": "stdout",
          "text": [
            "sum of all items in list= 15\n"
          ]
        }
      ],
      "source": [
        "l=[1,2,3,4,5]\n",
        "l_count=0\n",
        "for i in l:\n",
        "  l_count+=i\n",
        "print(\"sum of all items in list= {}\".format(l_count))\n"
      ]
    },
    {
      "cell_type": "markdown",
      "metadata": {
        "id": "4ulBZ6yhCi9F"
      },
      "source": [
        "(6) Write a Python program to get a string from a given string where all occurrences of its first char have been changed to '\\$', except the first char itself.\n",
        "\n",
        "Sample String : 'restart‘,\n",
        "\n",
        "Expected Result : 'resta\\$t'"
      ]
    },
    {
      "cell_type": "code",
      "execution_count": null,
      "metadata": {
        "id": "Fj0XhwbBCw2o",
        "colab": {
          "base_uri": "https://localhost:8080/"
        },
        "outputId": "e43ba710-0ee0-4794-d7fe-f6daa3df1fe1"
      },
      "outputs": [
        {
          "output_type": "stream",
          "name": "stdout",
          "text": [
            "resta$t\n"
          ]
        }
      ],
      "source": [
        "val='restart'\n",
        "newval=val[0]+''\n",
        "for i in range(1,len(val)):\n",
        "  if val[0] == val[i]:\n",
        "    newval=newval+'$'\n",
        "  else:\n",
        "    newval=newval+val[i]\n",
        "print(newval)\n",
        "\n"
      ]
    },
    {
      "cell_type": "markdown",
      "source": [
        "(7) Create a program that calculates the factorial of a number using a while loop."
      ],
      "metadata": {
        "id": "qVXA3q7ET5JI"
      }
    },
    {
      "cell_type": "code",
      "source": [
        "fact = 1\n",
        "i = 1\n",
        "\n",
        "number = 5\n",
        "\n",
        "while i <= number:\n",
        "  fact = fact*i\n",
        "  i = i + 1\n",
        "print(\"The factorial of\", number, \"is\", fact)"
      ],
      "metadata": {
        "id": "Lbt7R6UkT7BA",
        "colab": {
          "base_uri": "https://localhost:8080/"
        },
        "outputId": "0ed9b777-0812-4edd-b746-8c5b9fc9b651"
      },
      "execution_count": null,
      "outputs": [
        {
          "output_type": "stream",
          "name": "stdout",
          "text": [
            "The factorial of 5 is 120\n"
          ]
        }
      ]
    },
    {
      "cell_type": "markdown",
      "source": [
        "(8) Create a program that takes a list of numbers as input and outputs a new list with only the even numbers."
      ],
      "metadata": {
        "id": "6YfbzXMNT--R"
      }
    },
    {
      "cell_type": "code",
      "source": [
        "s = input(\"Enter a list of numbers separated by comma: \")\n",
        "l = [int(num) for num in s.split(',')]\n",
        "new_l=[]\n",
        "for i in l:\n",
        "  if(i%2==0):\n",
        "    new_l.append(i)\n",
        "print(new_l)"
      ],
      "metadata": {
        "id": "54q7wMQPUAKu",
        "colab": {
          "base_uri": "https://localhost:8080/"
        },
        "outputId": "c9119c37-0a04-4a31-8ae2-3fc90036f643"
      },
      "execution_count": null,
      "outputs": [
        {
          "output_type": "stream",
          "name": "stdout",
          "text": [
            "Enter a list of numbers separated by comma: 1,2,3,4,5,6\n",
            "[2, 4, 6]\n"
          ]
        }
      ]
    },
    {
      "cell_type": "markdown",
      "metadata": {
        "id": "_bIP7s1MCzue"
      },
      "source": [
        "(9) Write a program with python which could accept two parameter a and b to calculate and output the result of S, where\n",
        "\n",
        "$\\ S=3.14*(1+a/b)^3$\n",
        "\n"
      ]
    },
    {
      "cell_type": "code",
      "execution_count": null,
      "metadata": {
        "id": "w79QilHXD3Mg",
        "colab": {
          "base_uri": "https://localhost:8080/"
        },
        "outputId": "1d1f949f-7747-47c4-a9f4-187cc30d17e1"
      },
      "outputs": [
        {
          "output_type": "stream",
          "name": "stdout",
          "text": [
            "Enter value of a 2\n",
            "Enter value of b 3\n",
            "Result of S= 14.537037037037033\n"
          ]
        }
      ],
      "source": [
        "a=float(input(\"Enter value of a \"))\n",
        "b=float(input(\"Enter value of b \"))\n",
        "S=3.14*((1+(a/b))**3)\n",
        "print(\"Result of S= {}\".format(S))\n"
      ]
    },
    {
      "cell_type": "markdown",
      "metadata": {
        "id": "xCa2bK9aD4Q3"
      },
      "source": [
        "(10) Write a Python program to concatenate following dictionaries to create a new one.\n",
        "\n",
        "Sample Dictionary : dic1={1:10, 2:20}, dic2={3:30, 4:40}, dic3={5:50,6:60},\n",
        "\n",
        "Expected Result : {1: 10, 2: 20, 3: 30, 4: 40, 5: 50, 6: 60}\n"
      ]
    },
    {
      "cell_type": "code",
      "execution_count": null,
      "metadata": {
        "id": "_z4aLqAbEET1",
        "colab": {
          "base_uri": "https://localhost:8080/"
        },
        "outputId": "b67e6c0f-05a9-4b57-ef13-d304db9e43f5"
      },
      "outputs": [
        {
          "output_type": "stream",
          "name": "stdout",
          "text": [
            "Expected Result: {1: 10, 2: 20, 3: 30, 4: 40, 5: 50, 6: 60}\n"
          ]
        }
      ],
      "source": [
        "dic1 = {1: 10, 2: 20}\n",
        "dic2 = {3: 30, 4: 40}\n",
        "dic3 = {5: 50, 6: 60}\n",
        "\n",
        "new_dict = {}\n",
        "for d in [dic1,dic2,dic3]:\n",
        "  new_dict.update(d)\n",
        "\n",
        "print(\"Expected Result:\", new_dict)\n"
      ]
    },
    {
      "cell_type": "markdown",
      "source": [
        "(11) Write a Python function that accepts a tuple of integers and returns the largest and smallest elements."
      ],
      "metadata": {
        "id": "bkyZ2xSZUOst"
      }
    },
    {
      "cell_type": "code",
      "source": [
        "def minmax(t):\n",
        "  max=min=t[0]\n",
        "  for i in t:\n",
        "    if i < min:\n",
        "      min=i\n",
        "    if i > max:\n",
        "      max=i\n",
        "  return min,max\n",
        "\n",
        "s = input(\"Enter a list of numbers separated by comma: \")\n",
        "t = tuple(int(num) for num in s.split(','))\n",
        "min,max=minmax(t)\n",
        "print(\"largest elements is {}, smallest element is {}\".format(max,min))\n"
      ],
      "metadata": {
        "id": "3FdLRBKOUQEd",
        "colab": {
          "base_uri": "https://localhost:8080/"
        },
        "outputId": "bccc9397-7da6-4c51-e89a-da1b3eda33d4"
      },
      "execution_count": null,
      "outputs": [
        {
          "output_type": "stream",
          "name": "stdout",
          "text": [
            "Enter a list of numbers separated by comma: 1,2,3,4,5,6\n",
            "largest elements is 6, smallest element is 1\n"
          ]
        }
      ]
    },
    {
      "cell_type": "markdown",
      "source": [
        "(12) Write a Python program that counts the frequency of each character in a given string and stores it in a dictionary."
      ],
      "metadata": {
        "id": "O0TVi3gKUTpp"
      }
    },
    {
      "cell_type": "code",
      "source": [
        "# write your answer here\n",
        "str1=\"google colab\"\n",
        "dic={}\n",
        "for i in str1:\n",
        "  if i in dic:\n",
        "    dic[i]+=1\n",
        "  else:\n",
        "    dic[i]=1\n",
        "print(dic)\n"
      ],
      "metadata": {
        "id": "lAtfSfZXUU-h",
        "colab": {
          "base_uri": "https://localhost:8080/"
        },
        "outputId": "85ab0559-f890-4bb6-f9de-b41dd80f8785"
      },
      "execution_count": null,
      "outputs": [
        {
          "output_type": "stream",
          "name": "stdout",
          "text": [
            "{'g': 2, 'o': 3, 'l': 2, 'e': 1, ' ': 1, 'c': 1, 'a': 1, 'b': 1}\n"
          ]
        }
      ]
    },
    {
      "cell_type": "markdown",
      "metadata": {
        "id": "0v48Vqa7FrQh"
      },
      "source": [
        "(13) Write a Python program to check whether an element exists within a tuple."
      ]
    },
    {
      "cell_type": "code",
      "execution_count": null,
      "metadata": {
        "id": "7WEmgq-DF2P1",
        "colab": {
          "base_uri": "https://localhost:8080/"
        },
        "outputId": "fcb1bd4e-330e-4594-cdb3-27d93c620cf7"
      },
      "outputs": [
        {
          "output_type": "stream",
          "name": "stdout",
          "text": [
            "Enter value of a 4\n",
            "4 exists in tuple\n"
          ]
        }
      ],
      "source": [
        "t=(1,2,3,4,5,6,7)\n",
        "a=int(input(\"Enter value of a \"))\n",
        "if a in t:\n",
        "  print(\"{} exists in tuple\".format(a))\n",
        "else:\n",
        "  print(\"{} doesn't exists in tuple\".format(a))\n"
      ]
    },
    {
      "cell_type": "markdown",
      "metadata": {
        "id": "vD5PYLMuGga_"
      },
      "source": [
        "(14) Write a Python program to find maximum and the minimum value in a set."
      ]
    },
    {
      "cell_type": "code",
      "execution_count": null,
      "metadata": {
        "id": "t0D5kdJUGjjw",
        "colab": {
          "base_uri": "https://localhost:8080/"
        },
        "outputId": "76fd2c51-2a60-459c-ce9f-e8a9a852189f"
      },
      "outputs": [
        {
          "output_type": "stream",
          "name": "stdout",
          "text": [
            "Enter a list of numbers separated by comma: 2,4,3,6,5\n",
            "largest elements is 6, smallest element is 2\n"
          ]
        }
      ],
      "source": [
        "def minmax(s):\n",
        "  s_l = list(s)\n",
        "  min=max = s_l[0]\n",
        "  for i in s:\n",
        "    if i < min:\n",
        "      min=i\n",
        "    if i > max:\n",
        "      max=i\n",
        "  return min,max\n",
        "\n",
        "s = input(\"Enter a list of numbers separated by comma: \")\n",
        "t = set(int(num) for num in s.split(','))\n",
        "min,max=minmax(t)\n",
        "print(\"largest elements is {}, smallest element is {}\".format(max,min))\n"
      ]
    },
    {
      "cell_type": "markdown",
      "metadata": {
        "id": "uHkd-y5VhVWC"
      },
      "source": [
        "(15) Write a Python program to randomly divide the students in this class into six groups for term projects, each group should have at least 4 students but no more than 6 students (including 6). Here is the students list:\n",
        "student_list_fall_2023=['sb1826' ,\n",
        " 'lb0582' ,\n",
        " 'ab1820' ,\n",
        " 'sb1883' ,\n",
        " 'mb1296' ,\n",
        " 'sc1622' ,\n",
        " 'tc0469' ,\n",
        " 'ac1770' ,\n",
        " 'mc1453' ,\n",
        " 'ad1187' ,\n",
        " 'sd0926' ,\n",
        " 'sd1268' ,\n",
        " 'ag1609' ,\n",
        " 'sg1638' ,\n",
        " 'mg1299' ,\n",
        " 'vkk0022' ,\n",
        " 'bk0413' ,\n",
        " 'gk0257' ,\n",
        " 'am2807' ,\n",
        " 'gm0558' ,\n",
        " 'pm0658' ,\n",
        " 'am2346' ,\n",
        " 'rm1090' ,\n",
        " 'sm2364' ,\n",
        " 'sm2747' ,\n",
        " 'sm2343' ,\n",
        " 'vm0597' ,\n",
        " 'htn0086' ,\n",
        " 'sp2075' ,\n",
        " 'gp0306' ,\n",
        " 'lp0502' ,\n",
        " 'sr1508' ,\n",
        " 'vr0331' ,\n",
        " 'yr0180' ,\n",
        " 'as2819' ,\n",
        " 'ss2981' ,\n",
        " 'ns0756' ,\n",
        " 'mt0825' ,\n",
        " 'dt0463' ,\n",
        " 'su0137' ,\n",
        " 'dv0310'\n",
        "]"
      ]
    },
    {
      "cell_type": "code",
      "execution_count": null,
      "metadata": {
        "id": "3iGbmcOBhTwy",
        "colab": {
          "base_uri": "https://localhost:8080/"
        },
        "outputId": "236466ab-952f-42a4-ba8a-2b834f349b66"
      },
      "outputs": [
        {
          "output_type": "stream",
          "name": "stdout",
          "text": [
            "Group 1: ['ns0756', 'ag1609', 'dt0463', 'gk0257', 'ad1187', 'gm0558']\n",
            "Group 2: ['sg1638', 'ab1820', 'mc1453', 'sd1268', 'mg1299', 'gp0306']\n",
            "Group 3: ['mt0825', 'dv0310', 'sp2075', 'lp0502', 'sb1826', 'rm1090']\n",
            "Group 4: ['su0137', 'am2807', 'tc0469', 'sm2364', 'lb0582', 'sm2747']\n",
            "Group 5: ['vr0331', 'pm0658', 'am2346', 'yr0180', 'ac1770', 'ss2981']\n",
            "Group 6: ['sb1883', 'mb1296', 'sm2343', 'as2819', 'htn0086', 'vkk0022']\n",
            "Group 7: ['sd0926', 'vm0597', 'sr1508', 'sc1622', 'bk0413']\n"
          ]
        }
      ],
      "source": [
        "import random\n",
        "\n",
        "def div_groups(s, max_g, min_g):\n",
        "    random.shuffle(s)\n",
        "    num_s = len(s)\n",
        "\n",
        "    groups = []\n",
        "    current_group = []\n",
        "\n",
        "    for student in s:\n",
        "        current_group.append(student)\n",
        "\n",
        "        if len(current_group) == max_g:\n",
        "            groups.append(current_group)\n",
        "            current_group = []\n",
        "\n",
        "    if current_group:\n",
        "        while len(current_group) < min_g:\n",
        "            current_group.append(s.pop())\n",
        "        groups.append(current_group)\n",
        "\n",
        "    return groups\n",
        "\n",
        "s = ['sb1826' , 'lb0582' , 'ab1820' , 'sb1883' , 'mb1296' , 'sc1622' , 'tc0469' , 'ac1770' , 'mc1453' , 'ad1187' , 'sd0926' , 'sd1268' , 'ag1609' , 'sg1638' , 'mg1299' , 'vkk0022' , 'bk0413' , 'gk0257' , 'am2807' , 'gm0558' , 'pm0658' , 'am2346' , 'rm1090' , 'sm2364' , 'sm2747' , 'sm2343' , 'vm0597' , 'htn0086' , 'sp2075' , 'gp0306' , 'lp0502' , 'sr1508' , 'vr0331' , 'yr0180' , 'as2819' , 'ss2981' , 'ns0756' , 'mt0825' , 'dt0463' , 'su0137' , 'dv0310' ]\n",
        "\n",
        "max_g = 6\n",
        "min_g = 4\n",
        "\n",
        "groups = div_groups(s, max_g, min_g)\n",
        "for i, group in enumerate(groups, start=1):\n",
        "  print(f\"Group {i}: {group}\")\n",
        "\n",
        "\n",
        "\n",
        "\n",
        "\n",
        "\n"
      ]
    },
    {
      "cell_type": "markdown",
      "metadata": {
        "id": "fmZ9vX20Qs3d"
      },
      "source": [
        "(16) Write a Python program to find the duplicate elements in a given array of integers. Return -1 If there are no such elements."
      ]
    },
    {
      "cell_type": "code",
      "execution_count": null,
      "metadata": {
        "id": "W8Jw6sWMQs3d",
        "colab": {
          "base_uri": "https://localhost:8080/"
        },
        "outputId": "0543018f-2577-4638-d64a-36954b2aa97f"
      },
      "outputs": [
        {
          "output_type": "stream",
          "name": "stdout",
          "text": [
            "Duplicate elements: [8, 2]\n"
          ]
        }
      ],
      "source": [
        "def find(arr):\n",
        "    seen = set()\n",
        "    dups = set()\n",
        "\n",
        "    for num in arr:\n",
        "        if num in seen:\n",
        "            dups.add(num)\n",
        "        else:\n",
        "            seen.add(num)\n",
        "\n",
        "    return list(dups) if dups else -1\n",
        "\n",
        "arr = [4, 2, 8, 7, 2, 5, 8]\n",
        "result = find(arr)\n",
        "\n",
        "if result == -1:\n",
        "    print(\"No duplicate\")\n",
        "else:\n",
        "    print(\"Duplicate elements:\", result)"
      ]
    },
    {
      "cell_type": "markdown",
      "metadata": {
        "id": "hvq4APMhQs3d"
      },
      "source": [
        "(17) Write a Python program to select all the Sundays of a specified year."
      ]
    },
    {
      "cell_type": "code",
      "execution_count": null,
      "metadata": {
        "id": "ZnoxhSglQs3d",
        "colab": {
          "base_uri": "https://localhost:8080/"
        },
        "outputId": "233d8362-6641-4c53-da39-7ff67b4a46b8"
      },
      "outputs": [
        {
          "output_type": "stream",
          "name": "stdout",
          "text": [
            "Sundays of 2023:\n",
            "2023-01-01\n",
            "2023-01-08\n",
            "2023-01-15\n",
            "2023-01-22\n",
            "2023-01-29\n",
            "2023-02-05\n",
            "2023-02-12\n",
            "2023-02-19\n",
            "2023-02-26\n",
            "2023-03-05\n",
            "2023-03-12\n",
            "2023-03-19\n",
            "2023-03-26\n",
            "2023-04-02\n",
            "2023-04-09\n",
            "2023-04-16\n",
            "2023-04-23\n",
            "2023-04-30\n",
            "2023-05-07\n",
            "2023-05-14\n",
            "2023-05-21\n",
            "2023-05-28\n",
            "2023-06-04\n",
            "2023-06-11\n",
            "2023-06-18\n",
            "2023-06-25\n",
            "2023-07-02\n",
            "2023-07-09\n",
            "2023-07-16\n",
            "2023-07-23\n",
            "2023-07-30\n",
            "2023-08-06\n",
            "2023-08-13\n",
            "2023-08-20\n",
            "2023-08-27\n",
            "2023-09-03\n",
            "2023-09-10\n",
            "2023-09-17\n",
            "2023-09-24\n",
            "2023-10-01\n",
            "2023-10-08\n",
            "2023-10-15\n",
            "2023-10-22\n",
            "2023-10-29\n",
            "2023-11-05\n",
            "2023-11-12\n",
            "2023-11-19\n",
            "2023-11-26\n",
            "2023-12-03\n",
            "2023-12-10\n",
            "2023-12-17\n",
            "2023-12-24\n",
            "2023-12-31\n"
          ]
        }
      ],
      "source": [
        "import datetime\n",
        "\n",
        "def find(year):\n",
        "    sun = []\n",
        "    date = datetime.date(year, 1, 1)\n",
        "\n",
        "    while date.year == year:\n",
        "        if date.weekday() == 6:\n",
        "            sun.append(date)\n",
        "        date += datetime.timedelta(days=1)\n",
        "\n",
        "    return sun\n",
        "\n",
        "year = 2023\n",
        "sun_of_year = find(year)\n",
        "\n",
        "print(f\"Sundays of {year}:\")\n",
        "for sunday in sun_of_year:\n",
        "    print(sunday)\n",
        "\n"
      ]
    },
    {
      "cell_type": "markdown",
      "source": [
        "(18) Build a program that calculates the factorial of a given positive integer. The factorial of a non-negative integer n is the product of all positive integers less than or equal to n."
      ],
      "metadata": {
        "id": "55FWoSJPVVM6"
      }
    },
    {
      "cell_type": "code",
      "source": [
        "def fact(n):\n",
        "    if n == 0:\n",
        "        return 1\n",
        "    else:\n",
        "        return n * fact(n - 1)\n",
        "\n",
        "num = 5\n",
        "result = fact(num)\n",
        "print(f\"The fact of {num} is {result}\")\n",
        "\n"
      ],
      "metadata": {
        "id": "hwtr1wZmVX5A",
        "colab": {
          "base_uri": "https://localhost:8080/"
        },
        "outputId": "ef44850c-ca2d-46fe-cae7-1c52a169260a"
      },
      "execution_count": null,
      "outputs": [
        {
          "output_type": "stream",
          "name": "stdout",
          "text": [
            "The fact of 5 is 120\n"
          ]
        }
      ]
    },
    {
      "cell_type": "markdown",
      "source": [
        "(19) Write a program that takes a positive integer n as input and prints the count of even numbers from 1 to n. Use a loop to iterate through the numbers and utilize the break statement to optimize the loop."
      ],
      "metadata": {
        "id": "Q9ecagcaVazW"
      }
    },
    {
      "cell_type": "code",
      "source": [
        "n = int(input(\"Enter a positive integer: \"))\n",
        "\n",
        "count = 0\n",
        "for num in range(1, n + 1):\n",
        "  if num % 2 == 0:\n",
        "    count += 1\n",
        "    if num > n:\n",
        "      break\n",
        "print(count)\n",
        "\n",
        "\n",
        "\n"
      ],
      "metadata": {
        "id": "gycgckoAVZjR",
        "colab": {
          "base_uri": "https://localhost:8080/"
        },
        "outputId": "fa6ede88-9926-488b-800a-80e51fb83928"
      },
      "execution_count": null,
      "outputs": [
        {
          "output_type": "stream",
          "name": "stdout",
          "text": [
            "Enter a positive integer: 5\n",
            "2\n"
          ]
        }
      ]
    },
    {
      "cell_type": "markdown",
      "source": [
        "(20) Write a Python function called count_vowels that takes a string as input and returns the count of vowels (both lowercase and uppercase) present in the string. Consider the vowels to be 'a', 'e', 'i', 'o', and 'u'. Ignore spaces and other non-alphabetic characters."
      ],
      "metadata": {
        "id": "cboAr5pEWUf5"
      }
    },
    {
      "cell_type": "code",
      "source": [
        "\n",
        "def count_vowels(str1):\n",
        "  count=0\n",
        "  vowels='aeiouAEIOU'\n",
        "  for i in str1:\n",
        "    if i in vowels:\n",
        "      count=count+1\n",
        "  return count\n",
        "\n",
        "str1= input(\"Enter a string \")\n",
        "count=count_vowels(str1)\n",
        "print(count)\n"
      ],
      "metadata": {
        "id": "phs9gciMWWAW",
        "colab": {
          "base_uri": "https://localhost:8080/"
        },
        "outputId": "235cd5ae-bf0c-4f4f-b790-b89d6fcb8b6d"
      },
      "execution_count": null,
      "outputs": [
        {
          "output_type": "stream",
          "name": "stdout",
          "text": [
            "Enter a string abc\n",
            "1\n"
          ]
        }
      ]
    }
  ],
  "metadata": {
    "colab": {
      "provenance": [],
      "include_colab_link": true
    },
    "kernelspec": {
      "display_name": "Python 3 (ipykernel)",
      "language": "python",
      "name": "python3"
    },
    "language_info": {
      "codemirror_mode": {
        "name": "ipython",
        "version": 3
      },
      "file_extension": ".py",
      "mimetype": "text/x-python",
      "name": "python",
      "nbconvert_exporter": "python",
      "pygments_lexer": "ipython3",
      "version": "3.9.12"
    }
  },
  "nbformat": 4,
  "nbformat_minor": 0
}